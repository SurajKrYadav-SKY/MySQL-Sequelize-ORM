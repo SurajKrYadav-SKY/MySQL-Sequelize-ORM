{
 "cells": [
  {
   "cell_type": "markdown",
   "metadata": {},
   "source": [
    "## Ways to setup sequelize ORM with Postgress"
   ]
  },
  {
   "cell_type": "markdown",
   "metadata": {},
   "source": [
    "### Step 1: Install Required Packages"
   ]
  },
  {
   "cell_type": "code",
   "execution_count": null,
   "metadata": {
    "vscode": {
     "languageId": "plaintext"
    }
   },
   "outputs": [],
   "source": [
    "npm install pg pg-hstore\n",
    "npm i sequelize\n",
    "npm i sequelize-cli"
   ]
  },
  {
   "cell_type": "markdown",
   "metadata": {},
   "source": [
    "### Step 2: Configure Sequelize ORM"
   ]
  },
  {
   "cell_type": "code",
   "execution_count": null,
   "metadata": {
    "vscode": {
     "languageId": "plaintext"
    }
   },
   "outputs": [],
   "source": [
    "npx sequelize init"
   ]
  },
  {
   "cell_type": "markdown",
   "metadata": {},
   "source": [
    "### This will generate the following directory structure:"
   ]
  },
  {
   "cell_type": "markdown",
   "metadata": {},
   "source": [
    "├── config\n",
    "│   ├── config.json\n",
    "├── models\n",
    "├── migrations\n",
    "├── seeders\n"
   ]
  },
  {
   "cell_type": "markdown",
   "metadata": {},
   "source": [
    "### config.json:\n",
    "#### The configuration file for PostgreSQL will be a bit different. Update it like this:\n",
    "#### Make sure to change \"dialect\": \"postgres\", which specifies the database type as PostgreSQL."
   ]
  },
  {
   "cell_type": "code",
   "execution_count": null,
   "metadata": {
    "vscode": {
     "languageId": "plaintext"
    }
   },
   "outputs": [],
   "source": [
    "{\n",
    "  \"development\": {\n",
    "    \"username\": \"your_username\",\n",
    "    \"password\": \"your_password\",\n",
    "    \"database\": \"your_database\",\n",
    "    \"host\": \"127.0.0.1\",\n",
    "    \"dialect\": \"postgres\",\n",
    "    \"port\": 5432\n",
    "  },\n",
    "  \"test\": {\n",
    "    \"username\": \"your_username\",\n",
    "    \"password\": \"your_password\",\n",
    "    \"database\": \"your_test_database\",\n",
    "    \"host\": \"127.0.0.1\",\n",
    "    \"dialect\": \"postgres\",\n",
    "    \"port\": 5432\n",
    "  },\n",
    "  \"production\": {\n",
    "    \"username\": \"your_username\",\n",
    "    \"password\": \"your_password\",\n",
    "    \"database\": \"your_production_database\",\n",
    "    \"host\": \"127.0.0.1\",\n",
    "    \"dialect\": \"postgres\",\n",
    "    \"port\": 5432\n",
    "  }\n",
    "}\n"
   ]
  },
  {
   "cell_type": "markdown",
   "metadata": {},
   "source": [
    "### Step 3: Create the Database\n",
    "#### This will create the database as defined in the config.json file under the development section (or another environment section if specified)."
   ]
  },
  {
   "cell_type": "code",
   "execution_count": null,
   "metadata": {
    "vscode": {
     "languageId": "plaintext"
    }
   },
   "outputs": [],
   "source": [
    "npx sequelize db:create"
   ]
  },
  {
   "cell_type": "markdown",
   "metadata": {},
   "source": [
    "### Step 4: Create a Model\n",
    "#### To create a model, use this command:"
   ]
  },
  {
   "cell_type": "code",
   "execution_count": null,
   "metadata": {
    "vscode": {
     "languageId": "plaintext"
    }
   },
   "outputs": [],
   "source": [
    "npx sequelize model:generate --name table_name --attributes attribute1:DATA_TYPE,attribute2:DATA_TYPE,attribute3:DATA_TYPE"
   ]
  },
  {
   "cell_type": "markdown",
   "metadata": {},
   "source": [
    "### For PostgreSQL, the DATA_TYPE can be a number of types such as INTEGER, STRING, TEXT, DATE, etc.\n",
    "\n",
    "### Example"
   ]
  },
  {
   "cell_type": "code",
   "execution_count": null,
   "metadata": {
    "vscode": {
     "languageId": "plaintext"
    }
   },
   "outputs": [],
   "source": [
    "npx sequelize model:generate --name User --attributes firstName:string,lastName:string,email:string"
   ]
  },
  {
   "cell_type": "markdown",
   "metadata": {},
   "source": [
    "### Migration Commands\n",
    "#### To migrate the model to the database:"
   ]
  },
  {
   "cell_type": "code",
   "execution_count": null,
   "metadata": {
    "vscode": {
     "languageId": "plaintext"
    }
   },
   "outputs": [],
   "source": [
    "npx sequelize db:migrate"
   ]
  },
  {
   "cell_type": "markdown",
   "metadata": {},
   "source": [
    "#### To rollback (undo) a migration:"
   ]
  },
  {
   "cell_type": "code",
   "execution_count": null,
   "metadata": {
    "vscode": {
     "languageId": "plaintext"
    }
   },
   "outputs": [],
   "source": [
    "npx sequelize db:migrate:undo\n"
   ]
  },
  {
   "cell_type": "markdown",
   "metadata": {},
   "source": [
    "### Note:\n",
    "\n",
    "#### The rollback command undoes the last migration. You can also rollback multiple migrations with --all if needed."
   ]
  },
  {
   "cell_type": "markdown",
   "metadata": {},
   "source": [
    "### Seeders\n",
    "\n",
    "#### Seeders are used to insert initial data into the database. To generate a seeder:"
   ]
  },
  {
   "cell_type": "code",
   "execution_count": null,
   "metadata": {
    "vscode": {
     "languageId": "plaintext"
    }
   },
   "outputs": [],
   "source": [
    "npx sequelize seed:generate --name add-column-named-user-id"
   ]
  },
  {
   "cell_type": "markdown",
   "metadata": {},
   "source": [
    "### This creates a file in the seeders/ directory. The seeder file contains two functions:\n",
    "\n",
    "    -> up: Inserts data into the table(s).\n",
    "\n",
    "    -> down: Reverts the changes made by the seeder (e.g., deletes the inserted data)."
   ]
  },
  {
   "cell_type": "markdown",
   "metadata": {},
   "source": [
    "#### To run all seeders:"
   ]
  },
  {
   "cell_type": "code",
   "execution_count": null,
   "metadata": {
    "vscode": {
     "languageId": "plaintext"
    }
   },
   "outputs": [],
   "source": [
    "npx sequelize db:seed:all"
   ]
  },
  {
   "cell_type": "markdown",
   "metadata": {},
   "source": [
    "#### To undo (rollback) all seeders:"
   ]
  },
  {
   "cell_type": "code",
   "execution_count": null,
   "metadata": {
    "vscode": {
     "languageId": "plaintext"
    }
   },
   "outputs": [],
   "source": [
    "npx sequelize db:seed:undo:all"
   ]
  },
  {
   "cell_type": "markdown",
   "metadata": {},
   "source": [
    "### Updating Models Using Sequelize\n",
    "#### Step 1: Generate Migration for the Change\n",
    "\n",
    "#### If you need to update a model (e.g., change a column type), you can generate a migration like so:"
   ]
  },
  {
   "cell_type": "code",
   "execution_count": null,
   "metadata": {
    "vscode": {
     "languageId": "plaintext"
    }
   },
   "outputs": [],
   "source": [
    "npx sequelize-cli migration:generate --name change-user-id-to-string"
   ]
  },
  {
   "cell_type": "markdown",
   "metadata": {},
   "source": [
    "### Step 2: Write the Migration\n",
    "\n",
    "#### In your migration file, you would define the changes. Example for changing a column's data type from INTEGER to STRING:"
   ]
  },
  {
   "cell_type": "code",
   "execution_count": null,
   "metadata": {
    "vscode": {
     "languageId": "plaintext"
    }
   },
   "outputs": [],
   "source": [
    "\"use strict\";\n",
    "\n",
    "module.exports = {\n",
    "  async up(queryInterface, Sequelize) {\n",
    "    await queryInterface.changeColumn(\"Tickets\", \"user_id\", {\n",
    "      type: Sequelize.STRING, // VARCHAR(255) by default\n",
    "      allowNull: false,\n",
    "    });\n",
    "  },\n",
    "\n",
    "  async down(queryInterface, Sequelize) {\n",
    "    await queryInterface.changeColumn(\"Tickets\", \"user_id\", {\n",
    "      type: Sequelize.INTEGER,\n",
    "      allowNull: false,\n",
    "    });\n",
    "  },\n",
    "};"
   ]
  },
  {
   "cell_type": "markdown",
   "metadata": {},
   "source": [
    "-> up: This defines the change you want to apply (e.g., changing user_id to STRING).\n",
    "\n",
    "-> down: This defines how to revert that change (e.g., revert user_id to INTEGER)."
   ]
  },
  {
   "cell_type": "markdown",
   "metadata": {},
   "source": [
    "### Step 3: Update the Model\n",
    "\n",
    "#### Ensure that the model reflects the updated column type as well."
   ]
  },
  {
   "cell_type": "markdown",
   "metadata": {},
   "source": [
    "### Step 4: Run the migration:"
   ]
  },
  {
   "cell_type": "code",
   "execution_count": null,
   "metadata": {
    "vscode": {
     "languageId": "plaintext"
    }
   },
   "outputs": [],
   "source": [
    "npx sequelize-cli db:migrate"
   ]
  }
 ],
 "metadata": {
  "language_info": {
   "name": "python"
  }
 },
 "nbformat": 4,
 "nbformat_minor": 2
}
